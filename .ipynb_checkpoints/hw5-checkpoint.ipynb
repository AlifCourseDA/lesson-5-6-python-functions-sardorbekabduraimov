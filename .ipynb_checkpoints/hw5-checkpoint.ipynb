{
 "cells": [
  {
   "attachments": {
    "image-2.png": {
     "image/png": "[encoded data removed]"
    }
   },
   "cell_type": "markdown",
   "id": "72604ce5",
   "metadata": {
    "slideshow": {
     "slide_type": "slide"
    }
   },
   "source": [
    "![image-2.png](attachment:image-2.png)"
   ]
  },
  {
   "cell_type": "markdown",
   "id": "00dd6fb6",
   "metadata": {
    "slideshow": {
     "slide_type": "fragment"
    }
   },
   "source": [
    "# ДЗ №5"
   ]
  },
  {
   "cell_type": "markdown",
   "id": "e28a8323",
   "metadata": {},
   "source": [
    "В этом занятии практика будет ограничиваться исключительно задачами из учебника Яндекс: \n",
    "\n",
    "- В первую очередь надо будет прорешать задания из [модуля 4.1](https://new.contest.yandex.ru/41242/statistics)\n",
    "- Далее надо перейти к [модулю 4.2](https://new.contest.yandex.ru/41243/statistics)\n",
    "- Завершите вы это домашнее задание [модулем 4.3](https://new.contest.yandex.ru/41244/statistics)"
   ]
  },
  {
   "cell_type": "markdown",
   "id": "fd8748d1",
   "metadata": {},
   "source": [
    "# Функции:"
   ]
  },
  {
   "cell_type": "markdown",
   "id": "be7fc956",
   "metadata": {},
   "source": [
    "## Функциональное приветствие"
   ]
  },
  {
   "cell_type": "code",
   "execution_count": 1,
   "id": "b8073fd8",
   "metadata": {},
   "outputs": [],
   "source": [
    "def print_hello(name):\n",
    "    print(f'Hello, {name}!')"
   ]
  },
  {
   "cell_type": "markdown",
   "id": "44b83e1e",
   "metadata": {},
   "source": [
    "## Функциональный НОД"
   ]
  },
  {
   "cell_type": "code",
   "execution_count": 38,
   "id": "9252475f",
   "metadata": {},
   "outputs": [],
   "source": [
    "def gcd(a, b):\n",
    "    while b:\n",
    "        a, b = b, a % b\n",
    "    return a"
   ]
  },
  {
   "cell_type": "markdown",
   "id": "2ed26cb0",
   "metadata": {},
   "source": [
    "## Длина числа"
   ]
  },
  {
   "cell_type": "code",
   "execution_count": null,
   "id": "c5715888",
   "metadata": {},
   "outputs": [],
   "source": [
    "def number_length(n):\n",
    "    n = abs(n)\n",
    "    res = 0\n",
    "    while n > 0:\n",
    "        res += 1\n",
    "        n = n // 10\n",
    "    return res"
   ]
  },
  {
   "cell_type": "markdown",
   "id": "83b63ddb",
   "metadata": {},
   "source": [
    "## Имя of the month"
   ]
  },
  {
   "cell_type": "code",
   "execution_count": 8,
   "id": "0c0b1551",
   "metadata": {},
   "outputs": [],
   "source": [
    "def month(num, lang):\n",
    "    ru = {\n",
    "        1: \"Январь\",\n",
    "        2: 'Февраль',\n",
    "        3: 'Март',\n",
    "        4: 'Апрель',\n",
    "        5: 'Май',\n",
    "        6: 'Июнь',\n",
    "        7: 'Июль',\n",
    "        8: 'Август',\n",
    "        9: 'Сентябрь',\n",
    "        10: 'Октябрь',\n",
    "        11: 'Ноябрь',\n",
    "        12: 'Декабрь'\n",
    "    }\n",
    "\n",
    "    en = {\n",
    "        1: 'January',\n",
    "        2: 'February',\n",
    "        3: 'March',\n",
    "        4: 'April',\n",
    "        5: 'May',\n",
    "        6: 'June',\n",
    "        7: 'July',\n",
    "        8: 'August',\n",
    "        9: 'September',\n",
    "        10: 'October',\n",
    "        11: 'November',\n",
    "        12: 'December'\n",
    "    }\n",
    "    if lang == \"en\":\n",
    "        return en[num]\n",
    "    elif lang == \"ru\":\n",
    "        return ru[num]"
   ]
  },
  {
   "cell_type": "code",
   "execution_count": 9,
   "id": "4421af59",
   "metadata": {},
   "outputs": [],
   "source": [
    "result = month(1, \"en\")"
   ]
  },
  {
   "cell_type": "markdown",
   "id": "2608b762",
   "metadata": {},
   "source": [
    "## Числовая строка"
   ]
  },
  {
   "cell_type": "code",
   "execution_count": 11,
   "id": "3cdfa734",
   "metadata": {},
   "outputs": [],
   "source": [
    "def split_numbers(n):\n",
    "    return tuple([int(i) for i in n.split()])"
   ]
  },
  {
   "cell_type": "markdown",
   "id": "bf26f4ba",
   "metadata": {},
   "source": [
    "## Модернизация системы вывода"
   ]
  },
  {
   "cell_type": "code",
   "execution_count": null,
   "id": "8e6cda3e",
   "metadata": {},
   "outputs": [],
   "source": [
    "messages = set()\n",
    "\n",
    "\n",
    "def modern_print(mes):\n",
    "    global messages\n",
    "    if mes not in messages:\n",
    "        print(mes)\n",
    "        messages.add(mes)    "
   ]
  },
  {
   "cell_type": "markdown",
   "id": "f6713a97",
   "metadata": {},
   "source": [
    "## Шахматный «обед»"
   ]
  },
  {
   "cell_type": "code",
   "execution_count": null,
   "id": "821cfb85",
   "metadata": {},
   "outputs": [],
   "source": [
    "def can_eat(horse, figure):\n",
    "    (h_x, h_y) = horse\n",
    "    (f_x, f_y) = figure\n",
    "    if 1 <= h_x <= 8 and 1 <= h_y <= 8 and 1 <= f_x <= 8 and 1 <= f_y <= 8:\n",
    "        if abs(h_x - f_x) == 2 and abs(h_y - f_y) == 1 or abs(h_x - f_x) == 1 and abs(h_y - f_y) == 2:\n",
    "            return True\n",
    "        else:\n",
    "            return False"
   ]
  },
  {
   "cell_type": "markdown",
   "id": "413e0a2a",
   "metadata": {},
   "source": [
    "## А роза упала на лапу Азора 7.0"
   ]
  },
  {
   "cell_type": "code",
   "execution_count": 23,
   "id": "75395ff4",
   "metadata": {},
   "outputs": [],
   "source": [
    "def is_palindrome(n):\n",
    "    if type(n) is int:\n",
    "        str_n = str(n)\n",
    "        reverse_str_n = ''\n",
    "        for i in range(len(str_n)):\n",
    "            reverse_str_n += str_n[len(str_n) - 1 - i]\n",
    "        if str_n == reverse_str_n:\n",
    "            return True \n",
    "        else:\n",
    "            return False\n",
    "    elif type(n) is str:\n",
    "        str_n = str(n)\n",
    "        reverse_str_n = ''\n",
    "        for i in range(len(str_n)):\n",
    "            reverse_str_n += str_n[len(str_n) - 1 - i]\n",
    "        if str_n == reverse_str_n:\n",
    "            return True\n",
    "        else:\n",
    "            return False\n",
    "    elif type(n) is list:\n",
    "        str_n = list(n)\n",
    "        reverse_str_n = []\n",
    "        for i in range(len(str_n)):\n",
    "            reverse_str_n.append(str_n[len(str_n) - 1 - i])\n",
    "        if str_n == reverse_str_n:\n",
    "            return True\n",
    "        else:\n",
    "            return False\n",
    "    elif type(n) is tuple:\n",
    "        str_n = list(n)\n",
    "        reverse_str_n = []\n",
    "        for i in range(len(str_n)):\n",
    "            reverse_str_n.append(str_n[len(str_n) - 1 - i])\n",
    "        if str_n == reverse_str_n:\n",
    "            return True\n",
    "        else:\n",
    "            return False"
   ]
  },
  {
   "cell_type": "code",
   "execution_count": 24,
   "id": "c15825e7",
   "metadata": {},
   "outputs": [],
   "source": [
    "result = is_palindrome([1, 2, 1, 2, 1])"
   ]
  },
  {
   "cell_type": "markdown",
   "id": "d5a2c72a",
   "metadata": {},
   "source": [
    "## Простая задача 5.0"
   ]
  },
  {
   "cell_type": "code",
   "execution_count": 16,
   "id": "4717eb09",
   "metadata": {},
   "outputs": [],
   "source": [
    "def is_prime(n):\n",
    "    for i in range(2, int(n ** 0.5) + 1):\n",
    "        if n % i == 0:\n",
    "            return False\n",
    "    return True"
   ]
  },
  {
   "cell_type": "code",
   "execution_count": 17,
   "id": "ca663b22",
   "metadata": {},
   "outputs": [],
   "source": [
    "result = is_prime(1001459)"
   ]
  },
  {
   "cell_type": "markdown",
   "id": "1091db5b",
   "metadata": {},
   "source": [
    "## Слияние"
   ]
  },
  {
   "cell_type": "code",
   "execution_count": 19,
   "id": "e6e6f2ee",
   "metadata": {},
   "outputs": [],
   "source": [
    "def merge(t1, t2):\n",
    "    res = list(t1) + list(t2)\n",
    "    for i in range(len(res)):\n",
    "        for j in range(i, len(res)):\n",
    "            if res[i] > res[j]:\n",
    "                temp = res[i]\n",
    "                res[i] = res[j]\n",
    "                res[j] = temp\n",
    "    return tuple(res) "
   ]
  },
  {
   "cell_type": "markdown",
   "id": "049970ac",
   "metadata": {},
   "source": [
    "![](res1.png)"
   ]
  },
  {
   "cell_type": "markdown",
   "id": "a4d5797e",
   "metadata": {},
   "source": [
    "![](res2.png)"
   ]
  },
  {
   "cell_type": "markdown",
   "id": "97626446",
   "metadata": {},
   "source": [
    "# Позиционные и именнованные аргументы"
   ]
  },
  {
   "cell_type": "markdown",
   "id": "2ee9c5da",
   "metadata": {},
   "source": [
    "## Генератор списков"
   ]
  },
  {
   "cell_type": "code",
   "execution_count": null,
   "id": "79c20f12",
   "metadata": {},
   "outputs": [],
   "source": [
    "def make_list(length, umol=0):\n",
    "    return [umol for i in range(length)]"
   ]
  },
  {
   "cell_type": "markdown",
   "id": "d4d53d5a",
   "metadata": {},
   "source": [
    "## Генератор матриц"
   ]
  },
  {
   "cell_type": "code",
   "execution_count": 29,
   "id": "959731fb",
   "metadata": {},
   "outputs": [],
   "source": [
    "def make_matrix(size, value=0):\n",
    "    if type(size) is int:\n",
    "        return [[value for i in range(size)] for i in range(size)]\n",
    "    else:\n",
    "        return [[value for i in range(size[0])] for i in range(size[1])]"
   ]
  },
  {
   "cell_type": "code",
   "execution_count": 30,
   "id": "e4b341e0",
   "metadata": {},
   "outputs": [],
   "source": [
    "result = make_matrix(3)"
   ]
  },
  {
   "cell_type": "code",
   "execution_count": 31,
   "id": "99d9ebdb",
   "metadata": {},
   "outputs": [
    {
     "data": {
      "text/plain": [
       "[[0, 0, 0], [0, 0, 0], [0, 0, 0]]"
      ]
     },
     "execution_count": 31,
     "metadata": {},
     "output_type": "execute_result"
    }
   ],
   "source": [
    "result"
   ]
  },
  {
   "cell_type": "markdown",
   "id": "5698ef29",
   "metadata": {},
   "source": [
    "## Функциональный нод 2.0"
   ]
  },
  {
   "cell_type": "code",
   "execution_count": 39,
   "id": "cca3087c",
   "metadata": {},
   "outputs": [],
   "source": [
    "def gcd(*args):\n",
    "    result = args[0]\n",
    "    for arg in args[1:]:\n",
    "        while arg:\n",
    "            result, arg = arg, result % arg\n",
    "    return result"
   ]
  },
  {
   "cell_type": "markdown",
   "id": "b01981c8",
   "metadata": {},
   "source": [
    "## Имя of the month 2.0"
   ]
  },
  {
   "cell_type": "code",
   "execution_count": null,
   "id": "83ffe258",
   "metadata": {},
   "outputs": [],
   "source": [
    "def month(num, lang=\"ru\"):\n",
    "    ru = {\n",
    "        1: \"Январь\",\n",
    "        2: 'Февраль',\n",
    "        3: 'Март',\n",
    "        4: 'Апрель',\n",
    "        5: 'Май',\n",
    "        6: 'Июнь',\n",
    "        7: 'Июль',\n",
    "        8: 'Август',\n",
    "        9: 'Сентябрь',\n",
    "        10: 'Октябрь',\n",
    "        11: 'Ноябрь',\n",
    "        12: 'Декабрь'\n",
    "    }\n",
    "\n",
    "    en = {\n",
    "        1: 'January',\n",
    "        2: 'February',\n",
    "        3: 'March',\n",
    "        4: 'April',\n",
    "        5: 'May',\n",
    "        6: 'June',\n",
    "        7: 'July',\n",
    "        8: 'August',\n",
    "        9: 'September',\n",
    "        10: 'October',\n",
    "        11: 'November',\n",
    "        12: 'December'\n",
    "    }\n",
    "    if lang == \"en\":\n",
    "        return en[num]\n",
    "    elif lang == \"ru\":\n",
    "        return ru[num]"
   ]
  },
  {
   "cell_type": "markdown",
   "id": "a3d63e4c",
   "metadata": {},
   "source": [
    "## Подготовка данных"
   ]
  },
  {
   "cell_type": "code",
   "execution_count": 40,
   "id": "debe5c5e",
   "metadata": {},
   "outputs": [],
   "source": [
    "def to_string(*args, sep=' ', end='\\n'):\n",
    "    res = ''\n",
    "    for i, arg in enumerate(args):\n",
    "        res += str(arg)\n",
    "        if i != len(args) - 1:\n",
    "            res += str(sep)\n",
    "    res += end\n",
    "    return res"
   ]
  },
  {
   "cell_type": "markdown",
   "id": "bbcd3b6a",
   "metadata": {},
   "source": [
    "## Кофейня"
   ]
  },
  {
   "cell_type": "code",
   "execution_count": null,
   "id": "2432922c",
   "metadata": {},
   "outputs": [],
   "source": [
    "def order(*args):\n",
    "    global in_stock\n",
    "    for arg in args:\n",
    "        if arg == \"Эспрессо\" and in_stock[\"coffee\"] >= 1:\n",
    "            in_stock[\"coffee\"] -= 1\n",
    "            return \"Эспрессо\"\n",
    "        elif arg == \"Капучино\" and in_stock[\"coffee\"] >= 1 and in_stock[\"milk\"] >= 3:\n",
    "            in_stock[\"coffee\"] -= 1\n",
    "            in_stock[\"milk\"] -= 3\n",
    "            return \"Капучино\"\n",
    "        elif arg == \"Макиато\" and in_stock[\"coffee\"] >= 2 and in_stock[\"milk\"] >= 1:\n",
    "            in_stock[\"coffee\"] -= 2\n",
    "            in_stock[\"milk\"] -= 1\n",
    "            return \"Макиато\"\n",
    "        elif arg == \"Кофе по-венски\" and in_stock[\"coffee\"] >= 1 and in_stock[\"cream\"] >= 2:\n",
    "            in_stock[\"coffee\"] -= 1\n",
    "            in_stock[\"cream\"] -= 2\n",
    "            return \"Кофе по-венски\"\n",
    "        elif arg == \"Латте Макиато\" and in_stock[\"coffee\"] >= 2 and in_stock[\"cream\"] >= 1 and in_stock[\"milk\"] >= 2:\n",
    "            in_stock[\"coffee\"] -= 1\n",
    "            in_stock[\"cream\"] -= 1\n",
    "            in_stock[\"milk\"] -= 2\n",
    "            return \"Латте Макиато\"\n",
    "        elif arg == \"Кон Панна\" and in_stock[\"coffee\"] >= 1 and in_stock[\"cream\"] >= 1:\n",
    "            in_stock[\"coffee\"] -= 1\n",
    "            in_stock[\"cream\"] -= 1\n",
    "            return \"Кон Панна\"    \n",
    "    return 'К сожалению, не можем предложить Вам напиток'\n"
   ]
  },
  {
   "cell_type": "markdown",
   "id": "ecfdcea1",
   "metadata": {},
   "source": [
    "## В эфире рубрика «Эксперименты»"
   ]
  },
  {
   "cell_type": "code",
   "execution_count": null,
   "id": "72232af1",
   "metadata": {},
   "outputs": [],
   "source": [
    "result1 = []\n",
    "result2 = []\n",
    "\n",
    "\n",
    "def enter_results(*args):\n",
    "    for i, arg in enumerate(args):\n",
    "        if i % 2 == 0:\n",
    "            result1.append(arg)\n",
    "        else:\n",
    "            result2.append(arg)\n",
    "\n",
    "\n",
    "def get_sum():\n",
    "    return (sum(result1), sum(result2))\n",
    "\n",
    "\n",
    "def get_average():\n",
    "    return (sum(result1) / len(result1), sum(result2) / len(result2))"
   ]
  },
  {
   "cell_type": "markdown",
   "id": "b27b1968",
   "metadata": {},
   "source": [
    "## Длинная сортировка"
   ]
  },
  {
   "cell_type": "code",
   "execution_count": null,
   "id": "5135770a",
   "metadata": {},
   "outputs": [],
   "source": [
    "lambda x: (len(x), x.lower())"
   ]
  },
  {
   "cell_type": "markdown",
   "id": "ba7929c4",
   "metadata": {},
   "source": [
    "## Чётная фильтрация"
   ]
  },
  {
   "cell_type": "code",
   "execution_count": null,
   "id": "e23c638d",
   "metadata": {},
   "outputs": [],
   "source": [
    "lambda num: sum(int(digit) for digit in str(num)) % 2 == 0"
   ]
  },
  {
   "cell_type": "markdown",
   "id": "63fe2175",
   "metadata": {},
   "source": [
    "## Ключевой секрет"
   ]
  },
  {
   "cell_type": "code",
   "execution_count": 44,
   "id": "105468af",
   "metadata": {},
   "outputs": [],
   "source": [
    "def secret_replace(text, **kwargs):\n",
    "    res = ''\n",
    "    mem = dict()\n",
    "    for s in text:\n",
    "        if s in kwargs.keys():\n",
    "            if s not in mem.keys():\n",
    "                mem[s] = 0\n",
    "            else:\n",
    "                mem[s] += 1\n",
    "            res += kwargs[s][mem[s]]\n",
    "        else:\n",
    "            res += s\n",
    "    return res"
   ]
  },
  {
   "cell_type": "code",
   "execution_count": 45,
   "id": "adc063cc",
   "metadata": {},
   "outputs": [
    {
     "ename": "IndexError",
     "evalue": "tuple index out of range",
     "output_type": "error",
     "traceback": [
      "\u001b[1;31m---------------------------------------------------------------------------\u001b[0m",
      "\u001b[1;31mIndexError\u001b[0m                                Traceback (most recent call last)",
      "Cell \u001b[1;32mIn[45], line 1\u001b[0m\n\u001b[1;32m----> 1\u001b[0m result \u001b[38;5;241m=\u001b[39m \u001b[43msecret_replace\u001b[49m\u001b[43m(\u001b[49m\u001b[38;5;124;43m\"\u001b[39;49m\u001b[38;5;124;43mHello, world!\u001b[39;49m\u001b[38;5;124;43m\"\u001b[39;49m\u001b[43m,\u001b[49m\u001b[43m \u001b[49m\u001b[43ml\u001b[49m\u001b[38;5;241;43m=\u001b[39;49m\u001b[43m(\u001b[49m\u001b[38;5;124;43m\"\u001b[39;49m\u001b[38;5;124;43mhi\u001b[39;49m\u001b[38;5;124;43m\"\u001b[39;49m\u001b[43m,\u001b[49m\u001b[43m \u001b[49m\u001b[38;5;124;43m\"\u001b[39;49m\u001b[38;5;124;43my\u001b[39;49m\u001b[38;5;124;43m\"\u001b[39;49m\u001b[43m)\u001b[49m\u001b[43m,\u001b[49m\u001b[43m \u001b[49m\u001b[43mo\u001b[49m\u001b[38;5;241;43m=\u001b[39;49m\u001b[43m(\u001b[49m\u001b[38;5;124;43m\"\u001b[39;49m\u001b[38;5;124;43m123\u001b[39;49m\u001b[38;5;124;43m\"\u001b[39;49m\u001b[43m,\u001b[49m\u001b[43m \u001b[49m\u001b[38;5;124;43m\"\u001b[39;49m\u001b[38;5;124;43mz\u001b[39;49m\u001b[38;5;124;43m\"\u001b[39;49m\u001b[43m)\u001b[49m\u001b[43m)\u001b[49m\n",
      "Cell \u001b[1;32mIn[44], line 10\u001b[0m, in \u001b[0;36msecret_replace\u001b[1;34m(text, **kwargs)\u001b[0m\n\u001b[0;32m      8\u001b[0m     \u001b[38;5;28;01melse\u001b[39;00m:\n\u001b[0;32m      9\u001b[0m         mem[s] \u001b[38;5;241m+\u001b[39m\u001b[38;5;241m=\u001b[39m \u001b[38;5;241m1\u001b[39m\n\u001b[1;32m---> 10\u001b[0m     res \u001b[38;5;241m+\u001b[39m\u001b[38;5;241m=\u001b[39m \u001b[43mkwargs\u001b[49m\u001b[43m[\u001b[49m\u001b[43ms\u001b[49m\u001b[43m]\u001b[49m\u001b[43m[\u001b[49m\u001b[43mmem\u001b[49m\u001b[43m[\u001b[49m\u001b[43ms\u001b[49m\u001b[43m]\u001b[49m\u001b[43m]\u001b[49m\n\u001b[0;32m     11\u001b[0m \u001b[38;5;28;01melse\u001b[39;00m:\n\u001b[0;32m     12\u001b[0m     res \u001b[38;5;241m+\u001b[39m\u001b[38;5;241m=\u001b[39m s\n",
      "\u001b[1;31mIndexError\u001b[0m: tuple index out of range"
     ]
    }
   ],
   "source": [
    "result = secret_replace(\"Hello, world!\", l=(\"hi\", \"y\"), o=(\"123\", \"z\"))"
   ]
  },
  {
   "cell_type": "markdown",
   "id": "51875118",
   "metadata": {},
   "source": [
    "![](res3.png)"
   ]
  },
  {
   "cell_type": "markdown",
   "id": "e4b25c49",
   "metadata": {},
   "source": [
    "![](res4.png)"
   ]
  },
  {
   "cell_type": "markdown",
   "id": "fc3e30cf",
   "metadata": {},
   "source": [
    "# Рекурсия. Декораторы. Генераторы"
   ]
  },
  {
   "cell_type": "code",
   "execution_count": null,
   "id": "e6cafd33",
   "metadata": {},
   "outputs": [],
   "source": []
  },
  {
   "cell_type": "code",
   "execution_count": null,
   "id": "9be7fbd1",
   "metadata": {},
   "outputs": [],
   "source": []
  },
  {
   "cell_type": "code",
   "execution_count": null,
   "id": "f794bf7c",
   "metadata": {},
   "outputs": [],
   "source": []
  }
 ],
 "metadata": {
  "kernelspec": {
   "display_name": "Python 3 (ipykernel)",
   "language": "python",
   "name": "python3"
  },
  "language_info": {
   "codemirror_mode": {
    "name": "ipython",
    "version": 3
   },
   "file_extension": ".py",
   "mimetype": "text/x-python",
   "name": "python",
   "nbconvert_exporter": "python",
   "pygments_lexer": "ipython3",
   "version": "3.9.16"
  }
 },
 "nbformat": 4,
 "nbformat_minor": 5
}
